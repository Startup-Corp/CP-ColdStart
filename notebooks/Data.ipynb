{
 "cells": [
  {
   "cell_type": "code",
   "execution_count": 1,
   "id": "557f1eae",
   "metadata": {
    "_cell_guid": "b1076dfc-b9ad-4769-8c92-a6c4dae69d19",
    "_uuid": "8f2839f25d086af736a60e9eeb907d3b93b6e0e5",
    "execution": {
     "iopub.execute_input": "2024-09-28T23:39:13.418150Z",
     "iopub.status.busy": "2024-09-28T23:39:13.416980Z",
     "iopub.status.idle": "2024-09-28T23:39:14.347403Z",
     "shell.execute_reply": "2024-09-28T23:39:14.346018Z"
    },
    "papermill": {
     "duration": 0.955619,
     "end_time": "2024-09-28T23:39:14.350616",
     "exception": false,
     "start_time": "2024-09-28T23:39:13.394997",
     "status": "completed"
    },
    "tags": []
   },
   "outputs": [
    {
     "name": "stdout",
     "output_type": "stream",
     "text": [
      "/kaggle/input/cold-users/logs_df_2024-08-05.parquet\n",
      "/kaggle/input/cold-users/logs_df_2024-08-06.parquet\n",
      "/kaggle/input/cold-users/���⠢ �����.docx\n",
      "/kaggle/input/cold-users/video_stat.parquet\n"
     ]
    }
   ],
   "source": [
    "# This Python 3 environment comes with many helpful analytics libraries installed\n",
    "# It is defined by the kaggle/python Docker image: https://github.com/kaggle/docker-python\n",
    "# For example, here's several helpful packages to load\n",
    "\n",
    "import numpy as np # linear algebra\n",
    "import pandas as pd # data processing, CSV file I/O (e.g. pd.read_csv)\n",
    "\n",
    "# Input data files are available in the read-only \"../input/\" directory\n",
    "# For example, running this (by clicking run or pressing Shift+Enter) will list all files under the input directory\n",
    "\n",
    "import os\n",
    "for dirname, _, filenames in os.walk('/kaggle/input'):\n",
    "    for filename in filenames:\n",
    "        print(os.path.join(dirname, filename))\n",
    "\n",
    "# You can write up to 20GB to the current directory (/kaggle/working/) that gets preserved as output when you create a version using \"Save & Run All\" \n",
    "# You can also write temporary files to /kaggle/temp/, but they won't be saved outside of the current session"
   ]
  },
  {
   "cell_type": "markdown",
   "id": "ba6a0c5b",
   "metadata": {},
   "source": [
    "В этом файлике мы исследуем распределения"
   ]
  },
  {
   "cell_type": "code",
   "execution_count": 2,
   "id": "a0a1519c",
   "metadata": {
    "execution": {
     "iopub.execute_input": "2024-09-28T23:39:14.389866Z",
     "iopub.status.busy": "2024-09-28T23:39:14.389255Z",
     "iopub.status.idle": "2024-09-28T23:39:16.115725Z",
     "shell.execute_reply": "2024-09-28T23:39:16.114645Z"
    },
    "papermill": {
     "duration": 1.748835,
     "end_time": "2024-09-28T23:39:16.118427",
     "exception": false,
     "start_time": "2024-09-28T23:39:14.369592",
     "status": "completed"
    },
    "tags": []
   },
   "outputs": [],
   "source": [
    "import seaborn as sns\n",
    "import matplotlib.pyplot as plt"
   ]
  },
  {
   "cell_type": "code",
   "execution_count": 3,
   "id": "0993418d",
   "metadata": {
    "execution": {
     "iopub.execute_input": "2024-09-28T23:39:16.157161Z",
     "iopub.status.busy": "2024-09-28T23:39:16.156087Z",
     "iopub.status.idle": "2024-09-28T23:40:01.365902Z",
     "shell.execute_reply": "2024-09-28T23:40:01.364478Z"
    },
    "papermill": {
     "duration": 45.232099,
     "end_time": "2024-09-28T23:40:01.368867",
     "exception": false,
     "start_time": "2024-09-28T23:39:16.136768",
     "status": "completed"
    },
    "tags": []
   },
   "outputs": [],
   "source": [
    "logs1 = pd.read_parquet('../input/cold-users/logs_df_2024-08-05.parquet')"
   ]
  },
  {
   "cell_type": "code",
   "execution_count": 4,
   "id": "0bfcbc51",
   "metadata": {
    "execution": {
     "iopub.execute_input": "2024-09-28T23:40:01.407514Z",
     "iopub.status.busy": "2024-09-28T23:40:01.407091Z",
     "iopub.status.idle": "2024-09-28T23:40:08.919311Z",
     "shell.execute_reply": "2024-09-28T23:40:08.918149Z"
    },
    "papermill": {
     "duration": 7.534724,
     "end_time": "2024-09-28T23:40:08.921933",
     "exception": false,
     "start_time": "2024-09-28T23:40:01.387209",
     "status": "completed"
    },
    "tags": []
   },
   "outputs": [
    {
     "data": {
      "text/plain": [
       "region     1949\n",
       "city      18797\n",
       "dtype: int64"
      ]
     },
     "execution_count": 4,
     "metadata": {},
     "output_type": "execute_result"
    }
   ],
   "source": [
    "logs1[['region', 'city']].nunique()"
   ]
  },
  {
   "cell_type": "code",
   "execution_count": 5,
   "id": "93795f98",
   "metadata": {
    "execution": {
     "iopub.execute_input": "2024-09-28T23:40:08.960162Z",
     "iopub.status.busy": "2024-09-28T23:40:08.959723Z",
     "iopub.status.idle": "2024-09-28T23:40:08.979106Z",
     "shell.execute_reply": "2024-09-28T23:40:08.977812Z"
    },
    "papermill": {
     "duration": 0.041559,
     "end_time": "2024-09-28T23:40:08.981709",
     "exception": false,
     "start_time": "2024-09-28T23:40:08.940150",
     "status": "completed"
    },
    "tags": []
   },
   "outputs": [
    {
     "data": {
      "text/html": [
       "<div>\n",
       "<style scoped>\n",
       "    .dataframe tbody tr th:only-of-type {\n",
       "        vertical-align: middle;\n",
       "    }\n",
       "\n",
       "    .dataframe tbody tr th {\n",
       "        vertical-align: top;\n",
       "    }\n",
       "\n",
       "    .dataframe thead th {\n",
       "        text-align: right;\n",
       "    }\n",
       "</style>\n",
       "<table border=\"1\" class=\"dataframe\">\n",
       "  <thead>\n",
       "    <tr style=\"text-align: right;\">\n",
       "      <th></th>\n",
       "      <th>event_timestamp</th>\n",
       "      <th>user_id</th>\n",
       "      <th>region</th>\n",
       "      <th>city</th>\n",
       "      <th>video_id</th>\n",
       "      <th>watchtime</th>\n",
       "    </tr>\n",
       "  </thead>\n",
       "  <tbody>\n",
       "    <tr>\n",
       "      <th>0</th>\n",
       "      <td>2024-08-05 12:12:32+03:00</td>\n",
       "      <td>bd1b6b07-e6a2-46ad-aa58-990bb7e89252</td>\n",
       "      <td>288eb079-1c29-4749-ab7e-550451a4d765</td>\n",
       "      <td>da903ff0-9eb8-4e91-b25d-22c70f962ca2</td>\n",
       "      <td>0af133e1-4fbf-4e10-b9e8-19fbe1a011c3</td>\n",
       "      <td>32</td>\n",
       "    </tr>\n",
       "    <tr>\n",
       "      <th>1</th>\n",
       "      <td>2024-08-05 18:30:15+03:00</td>\n",
       "      <td>7db026fc-b55c-4580-bc26-e3df59ba6c7c</td>\n",
       "      <td>f58ab76f-2581-447a-b95b-5832e8757054</td>\n",
       "      <td>8449a572-fd10-44ae-a899-af656e350ad9</td>\n",
       "      <td>4f42aab2-6238-4381-bb53-36213916e912</td>\n",
       "      <td>340</td>\n",
       "    </tr>\n",
       "    <tr>\n",
       "      <th>2</th>\n",
       "      <td>2024-08-05 12:35:16+03:00</td>\n",
       "      <td>5c94a654-f376-4529-b463-b62b6b50e8ca</td>\n",
       "      <td>2c1f4ce4-66e0-4481-a0ed-244bf76fa83a</td>\n",
       "      <td>93a12888-fdf4-4889-a1ef-3ef0537d674d</td>\n",
       "      <td>8b106b84-f3f5-4c27-820c-7e1546b43614</td>\n",
       "      <td>12</td>\n",
       "    </tr>\n",
       "    <tr>\n",
       "      <th>3</th>\n",
       "      <td>2024-08-05 20:48:51+03:00</td>\n",
       "      <td>b972399a-c4b9-47fe-88fa-ccb1827cd131</td>\n",
       "      <td>f28a922a-68b9-46ce-8b52-c0be09413514</td>\n",
       "      <td>a269faea-d63c-4196-9963-00c62b5b3264</td>\n",
       "      <td>305389f3-1c8d-4026-9eef-e2b875a35380</td>\n",
       "      <td>2460</td>\n",
       "    </tr>\n",
       "    <tr>\n",
       "      <th>5</th>\n",
       "      <td>2024-08-05 05:19:19+03:00</td>\n",
       "      <td>807fb9e8-0aac-4dd2-836b-48797681f4ff</td>\n",
       "      <td>09714619-66dc-4faa-acdf-b2ae9dd2549d</td>\n",
       "      <td>51c8f786-5661-4a9c-8ab2-5d52f31095de</td>\n",
       "      <td>caeb71a4-f0f6-4c6a-ac79-31bdbb58fef1</td>\n",
       "      <td>87</td>\n",
       "    </tr>\n",
       "  </tbody>\n",
       "</table>\n",
       "</div>"
      ],
      "text/plain": [
       "            event_timestamp                               user_id  \\\n",
       "0 2024-08-05 12:12:32+03:00  bd1b6b07-e6a2-46ad-aa58-990bb7e89252   \n",
       "1 2024-08-05 18:30:15+03:00  7db026fc-b55c-4580-bc26-e3df59ba6c7c   \n",
       "2 2024-08-05 12:35:16+03:00  5c94a654-f376-4529-b463-b62b6b50e8ca   \n",
       "3 2024-08-05 20:48:51+03:00  b972399a-c4b9-47fe-88fa-ccb1827cd131   \n",
       "5 2024-08-05 05:19:19+03:00  807fb9e8-0aac-4dd2-836b-48797681f4ff   \n",
       "\n",
       "                                 region                                  city  \\\n",
       "0  288eb079-1c29-4749-ab7e-550451a4d765  da903ff0-9eb8-4e91-b25d-22c70f962ca2   \n",
       "1  f58ab76f-2581-447a-b95b-5832e8757054  8449a572-fd10-44ae-a899-af656e350ad9   \n",
       "2  2c1f4ce4-66e0-4481-a0ed-244bf76fa83a  93a12888-fdf4-4889-a1ef-3ef0537d674d   \n",
       "3  f28a922a-68b9-46ce-8b52-c0be09413514  a269faea-d63c-4196-9963-00c62b5b3264   \n",
       "5  09714619-66dc-4faa-acdf-b2ae9dd2549d  51c8f786-5661-4a9c-8ab2-5d52f31095de   \n",
       "\n",
       "                               video_id  watchtime  \n",
       "0  0af133e1-4fbf-4e10-b9e8-19fbe1a011c3         32  \n",
       "1  4f42aab2-6238-4381-bb53-36213916e912        340  \n",
       "2  8b106b84-f3f5-4c27-820c-7e1546b43614         12  \n",
       "3  305389f3-1c8d-4026-9eef-e2b875a35380       2460  \n",
       "5  caeb71a4-f0f6-4c6a-ac79-31bdbb58fef1         87  "
      ]
     },
     "execution_count": 5,
     "metadata": {},
     "output_type": "execute_result"
    }
   ],
   "source": [
    "logs1.head()"
   ]
  },
  {
   "cell_type": "code",
   "execution_count": 6,
   "id": "540ca3e1",
   "metadata": {
    "execution": {
     "iopub.execute_input": "2024-09-28T23:40:09.022447Z",
     "iopub.status.busy": "2024-09-28T23:40:09.022029Z",
     "iopub.status.idle": "2024-09-28T23:40:10.308688Z",
     "shell.execute_reply": "2024-09-28T23:40:10.307488Z"
    },
    "papermill": {
     "duration": 1.310222,
     "end_time": "2024-09-28T23:40:10.311249",
     "exception": false,
     "start_time": "2024-09-28T23:40:09.001027",
     "status": "completed"
    },
    "tags": []
   },
   "outputs": [],
   "source": [
    "logs1['hour'] = logs1['event_timestamp'].dt.hour"
   ]
  },
  {
   "cell_type": "code",
   "execution_count": 7,
   "id": "4f73dee1",
   "metadata": {
    "execution": {
     "iopub.execute_input": "2024-09-28T23:40:10.350809Z",
     "iopub.status.busy": "2024-09-28T23:40:10.350360Z",
     "iopub.status.idle": "2024-09-28T23:40:13.639705Z",
     "shell.execute_reply": "2024-09-28T23:40:13.638600Z"
    },
    "papermill": {
     "duration": 3.311746,
     "end_time": "2024-09-28T23:40:13.642476",
     "exception": false,
     "start_time": "2024-09-28T23:40:10.330730",
     "status": "completed"
    },
    "tags": []
   },
   "outputs": [],
   "source": [
    "cities = logs1['city'].unique()"
   ]
  },
  {
   "cell_type": "code",
   "execution_count": 8,
   "id": "953d7a2f",
   "metadata": {
    "execution": {
     "iopub.execute_input": "2024-09-28T23:40:13.682575Z",
     "iopub.status.busy": "2024-09-28T23:40:13.682168Z",
     "iopub.status.idle": "2024-09-28T23:40:13.687372Z",
     "shell.execute_reply": "2024-09-28T23:40:13.686037Z"
    },
    "papermill": {
     "duration": 0.027887,
     "end_time": "2024-09-28T23:40:13.689807",
     "exception": false,
     "start_time": "2024-09-28T23:40:13.661920",
     "status": "completed"
    },
    "tags": []
   },
   "outputs": [],
   "source": [
    "city1 = cities[0]\n",
    "city2 = cities[1]\n",
    "city3 = cities[2]"
   ]
  },
  {
   "cell_type": "code",
   "execution_count": 9,
   "id": "1fb6028f",
   "metadata": {
    "execution": {
     "iopub.execute_input": "2024-09-28T23:40:13.728391Z",
     "iopub.status.busy": "2024-09-28T23:40:13.727939Z",
     "iopub.status.idle": "2024-09-28T23:40:22.671160Z",
     "shell.execute_reply": "2024-09-28T23:40:22.670045Z"
    },
    "papermill": {
     "duration": 8.965695,
     "end_time": "2024-09-28T23:40:22.673940",
     "exception": false,
     "start_time": "2024-09-28T23:40:13.708245",
     "status": "completed"
    },
    "tags": []
   },
   "outputs": [],
   "source": [
    "city_u_cnt = logs1.groupby('city')['user_id'].count()"
   ]
  },
  {
   "cell_type": "code",
   "execution_count": 10,
   "id": "6882a1f3",
   "metadata": {
    "execution": {
     "iopub.execute_input": "2024-09-28T23:40:22.712608Z",
     "iopub.status.busy": "2024-09-28T23:40:22.712195Z",
     "iopub.status.idle": "2024-09-28T23:40:22.723443Z",
     "shell.execute_reply": "2024-09-28T23:40:22.722069Z"
    },
    "papermill": {
     "duration": 0.034364,
     "end_time": "2024-09-28T23:40:22.726751",
     "exception": false,
     "start_time": "2024-09-28T23:40:22.692387",
     "status": "completed"
    },
    "tags": []
   },
   "outputs": [],
   "source": [
    "msk = city_u_cnt.sort_values(ascending=False).index[0]"
   ]
  },
  {
   "cell_type": "code",
   "execution_count": 11,
   "id": "db70c23c",
   "metadata": {
    "execution": {
     "iopub.execute_input": "2024-09-28T23:40:22.765744Z",
     "iopub.status.busy": "2024-09-28T23:40:22.765354Z",
     "iopub.status.idle": "2024-09-28T23:40:34.397087Z",
     "shell.execute_reply": "2024-09-28T23:40:34.395891Z"
    },
    "papermill": {
     "duration": 11.654795,
     "end_time": "2024-09-28T23:40:34.400135",
     "exception": false,
     "start_time": "2024-09-28T23:40:22.745340",
     "status": "completed"
    },
    "tags": []
   },
   "outputs": [
    {
     "data": {
      "text/plain": [
       "((38619, 7), (33477, 7), (155513, 7), (5196895, 7))"
      ]
     },
     "execution_count": 11,
     "metadata": {},
     "output_type": "execute_result"
    }
   ],
   "source": [
    "log_city1 = logs1.loc[logs1['city'] == city1]\n",
    "log_city2 = logs1.loc[logs1['city'] == city2]\n",
    "log_city3 = logs1.loc[logs1['city'] == city3]\n",
    "log_msk = logs1.loc[logs1['city'] == msk]\n",
    "\n",
    "\n",
    "\n",
    "log_city1.shape, log_city2.shape, log_city3.shape, log_msk.shape"
   ]
  },
  {
   "cell_type": "code",
   "execution_count": 12,
   "id": "ee6491d6",
   "metadata": {
    "execution": {
     "iopub.execute_input": "2024-09-28T23:40:34.441489Z",
     "iopub.status.busy": "2024-09-28T23:40:34.441076Z",
     "iopub.status.idle": "2024-09-28T23:40:38.887779Z",
     "shell.execute_reply": "2024-09-28T23:40:38.886434Z"
    },
    "papermill": {
     "duration": 4.470158,
     "end_time": "2024-09-28T23:40:38.890485",
     "exception": false,
     "start_time": "2024-09-28T23:40:34.420327",
     "status": "completed"
    },
    "tags": []
   },
   "outputs": [
    {
     "name": "stderr",
     "output_type": "stream",
     "text": [
      "/opt/conda/lib/python3.10/site-packages/seaborn/_oldcore.py:1119: FutureWarning: use_inf_as_na option is deprecated and will be removed in a future version. Convert inf values to NaN before operating instead.\n",
      "  with pd.option_context('mode.use_inf_as_na', True):\n",
      "/opt/conda/lib/python3.10/site-packages/seaborn/_oldcore.py:1119: FutureWarning: use_inf_as_na option is deprecated and will be removed in a future version. Convert inf values to NaN before operating instead.\n",
      "  with pd.option_context('mode.use_inf_as_na', True):\n",
      "/opt/conda/lib/python3.10/site-packages/seaborn/_oldcore.py:1119: FutureWarning: use_inf_as_na option is deprecated and will be removed in a future version. Convert inf values to NaN before operating instead.\n",
      "  with pd.option_context('mode.use_inf_as_na', True):\n",
      "/opt/conda/lib/python3.10/site-packages/seaborn/_oldcore.py:1119: FutureWarning: use_inf_as_na option is deprecated and will be removed in a future version. Convert inf values to NaN before operating instead.\n",
      "  with pd.option_context('mode.use_inf_as_na', True):\n"
     ]
    },
    {
     "data": {
      "text/plain": [
       "<matplotlib.legend.Legend at 0x7e5bf6aebc70>"
      ]
     },
     "execution_count": 12,
     "metadata": {},
     "output_type": "execute_result"
    },
    {
     "data": {
      "image/png": "[encoded data removed]",
      "text/plain": [
       "<Figure size 640x480 with 1 Axes>"
      ]
     },
     "metadata": {},
     "output_type": "display_data"
    }
   ],
   "source": [
    "sns.histplot(log_city1['hour'], binwidth=1, stat='density', label='log_city1')\n",
    "sns.histplot(log_city2['hour'], binwidth=1, stat='density', label='log_city2')\n",
    "sns.histplot(log_city3['hour'], binwidth=1, stat='density', label='log_city3')\n",
    "sns.histplot(log_msk['hour'], binwidth=1, stat='density', label='log_msk')\n",
    "\n",
    "plt.legend()"
   ]
  },
  {
   "cell_type": "markdown",
   "id": "b1036803",
   "metadata": {},
   "source": [
    "На графике показаны распределения по городам."
   ]
  },
  {
   "cell_type": "code",
   "execution_count": 13,
   "id": "c3734336",
   "metadata": {
    "execution": {
     "iopub.execute_input": "2024-09-28T23:40:38.931242Z",
     "iopub.status.busy": "2024-09-28T23:40:38.930805Z",
     "iopub.status.idle": "2024-09-28T23:40:38.973600Z",
     "shell.execute_reply": "2024-09-28T23:40:38.972494Z"
    },
    "papermill": {
     "duration": 0.066144,
     "end_time": "2024-09-28T23:40:38.976039",
     "exception": false,
     "start_time": "2024-09-28T23:40:38.909895",
     "status": "completed"
    },
    "tags": []
   },
   "outputs": [
    {
     "data": {
      "text/plain": [
       "(0    13\n",
       " Name: hour, dtype: int32,\n",
       " 0    21\n",
       " Name: hour, dtype: int32,\n",
       " 0    17\n",
       " Name: hour, dtype: int32,\n",
       " 0    21\n",
       " Name: hour, dtype: int32)"
      ]
     },
     "execution_count": 13,
     "metadata": {},
     "output_type": "execute_result"
    }
   ],
   "source": [
    "log_city1['hour'].mode(), log_city2['hour'].mode(), log_city3['hour'].mode(), log_msk['hour'].mode()"
   ]
  }
 ],
 "metadata": {
  "kaggle": {
   "accelerator": "none",
   "dataSources": [
    {
     "datasetId": 5779831,
     "sourceId": 9497831,
     "sourceType": "datasetVersion"
    }
   ],
   "dockerImageVersionId": 30775,
   "isGpuEnabled": false,
   "isInternetEnabled": true,
   "language": "python",
   "sourceType": "notebook"
  },
  "kernelspec": {
   "display_name": "Python 3",
   "language": "python",
   "name": "python3"
  },
  "language_info": {
   "codemirror_mode": {
    "name": "ipython",
    "version": 3
   },
   "file_extension": ".py",
   "mimetype": "text/x-python",
   "name": "python",
   "nbconvert_exporter": "python",
   "pygments_lexer": "ipython3",
   "version": "3.10.14"
  },
  "papermill": {
   "default_parameters": {},
   "duration": 91.548828,
   "end_time": "2024-09-28T23:40:42.040098",
   "environment_variables": {},
   "exception": true,
   "input_path": "__notebook__.ipynb",
   "output_path": "__notebook__.ipynb",
   "parameters": {},
   "start_time": "2024-09-28T23:39:10.491270",
   "version": "2.6.0"
  }
 },
 "nbformat": 4,
 "nbformat_minor": 5
}
